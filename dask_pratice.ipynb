{
 "cells": [
  {
   "cell_type": "code",
   "execution_count": 2,
   "id": "initial_id",
   "metadata": {
    "collapsed": true,
    "ExecuteTime": {
     "end_time": "2024-05-17T05:55:14.540154Z",
     "start_time": "2024-05-17T05:55:03.094117Z"
    }
   },
   "outputs": [
    {
     "name": "stderr",
     "output_type": "stream",
     "text": [
      "/Library/Python/3.9/site-packages/dask/dataframe/__init__.py:31: FutureWarning: \n",
      "Dask dataframe query planning is disabled because dask-expr is not installed.\n",
      "\n",
      "You can install it with `pip install dask[dataframe]` or `conda install dask`.\n",
      "This will raise in a future version.\n",
      "\n",
      "  warnings.warn(msg, FutureWarning)\n"
     ]
    },
    {
     "name": "stdout",
     "output_type": "stream",
     "text": [
      "Pandas 집계 시간: 3.510481357574463 초\n",
      "Pandas 조인 시간: 1.1892461776733398 초\n",
      "Dask 집계 시간: 3.222404956817627 초\n",
      "Dask 조인 시간: 1.0353312492370605 초\n"
     ]
    }
   ],
   "source": [
    "import time\n",
    "import pandas as pd\n",
    "import numpy as np\n",
    "import dask.dataframe as dd\n",
    "\n",
    "def create_datasets(nrows: int, ncols: int) -> tuple[pd.DataFrame, pd.DataFrame]:\n",
    "    main_data = {f\"col_{i}\": np.random.rand(nrows) for i in range(ncols)}\n",
    "    ref_data = {f\"col_{i}\": np.random.rand(nrows // 10) for i in range(ncols)}\n",
    "    main_df = pd.DataFrame(main_data)\n",
    "    ref_df = pd.DataFrame(ref_data)\n",
    "    return main_df, ref_df\n",
    "\n",
    "def pandas_operations(main_df: pd.DataFrame, ref_df: pd.DataFrame) -> tuple[float, float]:\n",
    "    start_time_agg = time.time()\n",
    "    grouped = main_df.groupby(\"col_0\").mean()\n",
    "    end_time_agg = time.time()\n",
    "\n",
    "    start_time_join = time.time()\n",
    "    joined = main_df.merge(ref_df, on=\"col_0\", how=\"left\")\n",
    "    end_time_join = time.time()\n",
    "\n",
    "    return end_time_agg - start_time_agg, end_time_join - start_time_join\n",
    "\n",
    "def dask_operations(\n",
    "    main_df: pd.DataFrame, ref_df: pd.DataFrame, npartitions: int\n",
    ") -> tuple[float, float]:\n",
    "    dmain_df = dd.from_pandas(main_df, npartitions=npartitions)\n",
    "    dref_df = dd.from_pandas(ref_df, npartitions=npartitions)\n",
    "\n",
    "    start_time_agg = time.time()\n",
    "    grouped_task = dmain_df.groupby(\"col_0\").mean()\n",
    "    grouped = grouped_task.compute()\n",
    "    end_time_agg = time.time()\n",
    "    grouped_task.visualize(\"grouped.svg\")\n",
    "\n",
    "    start_time_join = time.time()\n",
    "    joined_task = dmain_df.merge(dref_df, on=\"col_0\", how=\"left\")\n",
    "    joined = joined_task.compute()\n",
    "    end_time_join = time.time()\n",
    "    joined_task.visualize(\"joined.svg\")\n",
    "\n",
    "    return end_time_agg - start_time_agg, end_time_join - start_time_join\n",
    "\n",
    "main_df, ref_df = create_datasets(10_000_000, 5)\n",
    "\n",
    "pandas_agg_time, pandas_join_time = pandas_operations(main_df, ref_df)\n",
    "dask_agg_time, dask_join_time = dask_operations(main_df, ref_df, npartitions=10)\n",
    "\n",
    "print(\"Pandas 집계 시간:\", pandas_agg_time, \"초\")\n",
    "print(\"Pandas 조인 시간:\", pandas_join_time, \"초\")\n",
    "print(\"Dask 집계 시간:\", dask_agg_time, \"초\")\n",
    "print(\"Dask 조인 시간:\", dask_join_time, \"초\")"
   ]
  }
 ],
 "metadata": {
  "kernelspec": {
   "display_name": "Python 3",
   "language": "python",
   "name": "python3"
  },
  "language_info": {
   "codemirror_mode": {
    "name": "ipython",
    "version": 2
   },
   "file_extension": ".py",
   "mimetype": "text/x-python",
   "name": "python",
   "nbconvert_exporter": "python",
   "pygments_lexer": "ipython2",
   "version": "2.7.6"
  }
 },
 "nbformat": 4,
 "nbformat_minor": 5
}
