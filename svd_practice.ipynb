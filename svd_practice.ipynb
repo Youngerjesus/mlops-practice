{
 "cells": [
  {
   "cell_type": "code",
   "execution_count": 1,
   "id": "initial_id",
   "metadata": {
    "collapsed": true,
    "ExecuteTime": {
     "end_time": "2024-05-22T04:07:05.259909Z",
     "start_time": "2024-05-22T04:07:04.904165Z"
    }
   },
   "outputs": [
    {
     "name": "stderr",
     "output_type": "stream",
     "text": [
      "/Library/Python/3.9/site-packages/urllib3/__init__.py:35: NotOpenSSLWarning: urllib3 v2 only supports OpenSSL 1.1.1+, currently the 'ssl' module is compiled with 'LibreSSL 2.8.3'. See: https://github.com/urllib3/urllib3/issues/3020\n",
      "  warnings.warn(\n"
     ]
    }
   ],
   "source": [
    "import pandas as pd\n",
    "import numpy as np\n",
    "from tqdm import tqdm\n",
    "from datasets import load_dataset\n",
    "from sklearn.model_selection import train_test_split\n",
    "from scipy.sparse.linalg import svds\n",
    "from scipy.sparse import csr_matrix\n",
    "import matplotlib.pyplot as plt"
   ]
  },
  {
   "cell_type": "code",
   "execution_count": 2,
   "outputs": [],
   "source": [
    "data = load_dataset(\"nbtpj/movielens-1m-ratings\")[\"train\"].shuffle(seed=10).select(range(200000))\n",
    "movielens_df = pd.DataFrame(data)\n",
    "movielens_df = movielens_df[[\"user_id\", \"movie_id\", \"user_rating\"]]\n",
    "\n",
    "user_ids = movielens_df[\"user_id\"].unique()\n",
    "user_id_map = {id: index for index, id in enumerate(user_ids)}\n",
    "movie_ids = movielens_df[\"movie_id\"].unique()\n",
    "movie_id_map = {id: index for index, id in enumerate(movie_ids)}\n",
    "\n",
    "movielens_df[\"user_id\"] = movielens_df[\"user_id\"].map(user_id_map)\n",
    "movielens_df[\"movie_id\"] = movielens_df[\"movie_id\"].map(movie_id_map)"
   ],
   "metadata": {
    "collapsed": false,
    "ExecuteTime": {
     "end_time": "2024-05-22T04:07:21.154706Z",
     "start_time": "2024-05-22T04:07:06.883002Z"
    }
   },
   "id": "9395bdb962ebe06d"
  },
  {
   "cell_type": "code",
   "execution_count": null,
   "outputs": [],
   "source": [
    "train_data, test_data = train_test_split(movielens_df, test_size=0.2, random_state=10)\n",
    "\n",
    "user_avg_ratings = train_data.groupby('user_id')['user_rating'].mean().to_dict()\n",
    "ratings_matrix = train_data.pivot(index=\"user_id\", columns=\"movie_id\", values=\"user_rating\").apply(lambda x: x.fillna(user_avg_ratings[x.name]), axis=1)\n",
    "user_rating_mean = ratings_matrix.mean(axis=1)\n",
    "ratings_matrix_demeaned = ratings_matrix - user_rating_mean.values.reshape(-1, 1)\n",
    "ratings_matrix_csr = csr_matrix(ratings_matrix_demeaned.values)\n",
    "\n",
    "U, sigma, Vt = svds(ratings_matrix_csr, k=200)\n",
    "sigma = np.diag(sigma)"
   ],
   "metadata": {
    "collapsed": false
   },
   "id": "6f654b97d7c86003"
  },
  {
   "cell_type": "code",
   "execution_count": null,
   "outputs": [],
   "source": [
    "all_user_predicted_ratings = np.dot(np.dot(U, sigma), Vt) + user_rating_mean.values.reshape(-1, 1)\n",
    "user_mean = np.mean(all_user_predicted_ratings)\n",
    "\n",
    "def predict_rating_svd(user_id: int, movie_id: int):\n",
    "    if user_id < all_user_predicted_ratings.shape[0] and movie_id < all_user_predicted_ratings.shape[1]:\n",
    "        return all_user_predicted_ratings[user_id, movie_id]\n",
    "    else:\n",
    "        return user_mean\n",
    "\n",
    "predictions: list[float] = []\n",
    "true_ratings: list[float] = []\n",
    "\n",
    "for _, row in tqdm(test_data.iterrows(), total=test_data.shape[0]):\n",
    "    user_id = int(row[\"user_id\"])\n",
    "    movie_id = int(row[\"movie_id\"])\n",
    "    true_rating = row[\"user_rating\"]\n",
    "\n",
    "    predicted_rating = predict_rating_svd(user_id, movie_id)\n",
    "    predictions.append(round(predicted_rating))\n",
    "    true_ratings.append(true_rating)\n",
    "\n",
    "rmse = np.sqrt(np.mean((np.array(predictions) - np.array(true_ratings))**2))\n",
    "print(f\"RMSE: {rmse}\")"
   ],
   "metadata": {
    "collapsed": false
   },
   "id": "846023b301f20db6"
  },
  {
   "cell_type": "code",
   "execution_count": null,
   "outputs": [],
   "source": [
    "plt.figure(figsize=(10, 5))\n",
    "plt.hist(predictions, bins=5, alpha=0.5, label=\"Predicted\", color=\"#fc1c49\")\n",
    "plt.hist(true_ratings, bins=5, alpha=0.5, label=\"Actual\", color=\"#00a67d\")\n",
    "plt.title(\"Predicted vs. Actual Rating Distribution\")\n",
    "plt.xlabel(\"Rating\")\n",
    "plt.ylabel(\"Frequency\")\n",
    "plt.legend()\n",
    "plt.show()"
   ],
   "metadata": {
    "collapsed": false
   },
   "id": "6a1381214581e29f"
  }
 ],
 "metadata": {
  "kernelspec": {
   "display_name": "Python 3",
   "language": "python",
   "name": "python3"
  },
  "language_info": {
   "codemirror_mode": {
    "name": "ipython",
    "version": 2
   },
   "file_extension": ".py",
   "mimetype": "text/x-python",
   "name": "python",
   "nbconvert_exporter": "python",
   "pygments_lexer": "ipython2",
   "version": "2.7.6"
  }
 },
 "nbformat": 4,
 "nbformat_minor": 5
}
