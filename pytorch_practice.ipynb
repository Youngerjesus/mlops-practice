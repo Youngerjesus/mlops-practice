{
 "cells": [
  {
   "cell_type": "code",
   "execution_count": 1,
   "id": "initial_id",
   "metadata": {
    "collapsed": true,
    "ExecuteTime": {
     "end_time": "2024-05-06T21:12:25.451978Z",
     "start_time": "2024-05-06T21:12:22.131760Z"
    }
   },
   "outputs": [],
   "source": [
    "import torch  "
   ]
  },
  {
   "cell_type": "code",
   "execution_count": 5,
   "outputs": [
    {
     "data": {
      "text/plain": "tensor(5.)"
     },
     "execution_count": 5,
     "metadata": {},
     "output_type": "execute_result"
    }
   ],
   "source": [
    "x = torch.tensor(5.0)"
   ],
   "metadata": {
    "collapsed": false,
    "ExecuteTime": {
     "end_time": "2024-05-06T21:12:39.513612Z",
     "start_time": "2024-05-06T21:12:39.510773Z"
    }
   },
   "id": "7d1ce2d8eb765be4"
  },
  {
   "cell_type": "code",
   "execution_count": 6,
   "outputs": [],
   "source": [
    "y = torch.tensor([1.0, 2.0, 3.0])"
   ],
   "metadata": {
    "collapsed": false,
    "ExecuteTime": {
     "end_time": "2024-05-06T21:12:57.877365Z",
     "start_time": "2024-05-06T21:12:57.874069Z"
    }
   },
   "id": "3bff3b7d46dadcd4"
  },
  {
   "cell_type": "code",
   "execution_count": 7,
   "outputs": [
    {
     "data": {
      "text/plain": "tensor([5, 7, 9])"
     },
     "execution_count": 7,
     "metadata": {},
     "output_type": "execute_result"
    }
   ],
   "source": [
    "x = torch.tensor([1,2,3])\n",
    "y= torch.tensor([4,5,6])\n",
    "\n",
    "x + y"
   ],
   "metadata": {
    "collapsed": false,
    "ExecuteTime": {
     "end_time": "2024-05-06T21:13:28.654212Z",
     "start_time": "2024-05-06T21:13:28.648535Z"
    }
   },
   "id": "67f3d4b3a115615c"
  },
  {
   "cell_type": "code",
   "execution_count": 22,
   "outputs": [
    {
     "data": {
      "text/plain": "tensor([[1],\n        [2],\n        [3],\n        [4]])"
     },
     "execution_count": 22,
     "metadata": {},
     "output_type": "execute_result"
    }
   ],
   "source": [
    "x = torch.tensor([1, 2, 3, 4])\n",
    "x1 = x.unsqueeze(0)\n",
    "x2 = x.unsqueeze(1)\n",
    "x2"
   ],
   "metadata": {
    "collapsed": false,
    "ExecuteTime": {
     "end_time": "2024-05-07T08:52:09.760874Z",
     "start_time": "2024-05-07T08:52:09.757145Z"
    }
   },
   "id": "556a815bed6374f2"
  },
  {
   "cell_type": "code",
   "execution_count": 36,
   "outputs": [
    {
     "name": "stdout",
     "output_type": "stream",
     "text": [
      "Output Tensor: tensor([[ 0.1622,  0.3018, -1.1203,  0.6952,  1.0104],\n",
      "        [ 0.3073,  1.1359, -0.2298,  0.3634,  0.4409]],\n",
      "       grad_fn=<AddmmBackward0>)\n"
     ]
    }
   ],
   "source": [
    "import torch\n",
    "import torch.nn as nn\n",
    "import torch.optim as optim\n",
    "# 선형 층 생성\n",
    "linear_layer = nn.Linear(in_features=10, out_features=5)\n",
    "\n",
    "# 임의의 입력 텐서 생성\n",
    "input_tensor = torch.randn(2, 10)  # 배치 크기 1, 입력 특성 10\n",
    "\n",
    "# 선형 층을 통과시켜 출력 계산\n",
    "output_tensor = linear_layer(input_tensor)\n",
    "\n",
    "print(\"Output Tensor:\", output_tensor)"
   ],
   "metadata": {
    "collapsed": false,
    "ExecuteTime": {
     "end_time": "2024-05-07T10:08:27.797649Z",
     "start_time": "2024-05-07T10:08:27.792591Z"
    }
   },
   "id": "41c9d8191fd2b11b"
  },
  {
   "cell_type": "code",
   "execution_count": 32,
   "outputs": [
    {
     "name": "stdout",
     "output_type": "stream",
     "text": [
      "Weights: Parameter containing:\n",
      "tensor([[ 0.2717, -0.1849,  0.0869, -0.1762,  0.1428,  0.0502,  0.2912,  0.0676,\n",
      "          0.1594,  0.1530],\n",
      "        [ 0.0766,  0.0526, -0.1807, -0.2994,  0.1070, -0.1215,  0.0743, -0.1486,\n",
      "         -0.2367, -0.1112],\n",
      "        [ 0.2832, -0.2847, -0.2184,  0.1522,  0.0104, -0.2225,  0.1321,  0.0550,\n",
      "         -0.1947,  0.2072],\n",
      "        [-0.1595,  0.0909, -0.2351,  0.1131,  0.2663, -0.2464,  0.1580, -0.1524,\n",
      "         -0.1944, -0.0701],\n",
      "        [ 0.0567,  0.2186, -0.1587, -0.0937,  0.0946, -0.0281,  0.2225, -0.1226,\n",
      "         -0.0724, -0.0393]], requires_grad=True)\n",
      "Bias: Parameter containing:\n",
      "tensor([-0.1506, -0.1782,  0.0956,  0.2645,  0.1353], requires_grad=True)\n"
     ]
    }
   ],
   "source": [
    "# 가중치 확인\n",
    "print(\"Weights:\", linear_layer.weight)\n",
    "\n",
    "# 편향 확인\n",
    "print(\"Bias:\", linear_layer.bias)"
   ],
   "metadata": {
    "collapsed": false,
    "ExecuteTime": {
     "end_time": "2024-05-07T09:35:59.872320Z",
     "start_time": "2024-05-07T09:35:59.867065Z"
    }
   },
   "id": "3e0722487679a4ad"
  },
  {
   "cell_type": "code",
   "execution_count": 40,
   "outputs": [
    {
     "name": "stdout",
     "output_type": "stream",
     "text": [
      "Epoch [0.0, Loss: 0.7085\n",
      "Epoch [0.1, Loss: 0.6930\n",
      "Epoch [0.2, Loss: 0.6926\n",
      "Epoch [0.3, Loss: 0.6913\n",
      "Epoch [0.4, Loss: 0.6811\n",
      "Epoch [0.5, Loss: 0.5105\n",
      "Epoch [0.6, Loss: 0.1543\n",
      "Epoch [0.7, Loss: 0.0687\n",
      "Epoch [0.8, Loss: 0.0421\n",
      "Epoch [0.9, Loss: 0.0299\n",
      "Epoch [1.0, Loss: 0.0231\n"
     ]
    }
   ],
   "source": [
    "\n",
    "\n",
    "# 실습: XOR 예측 문제 \n",
    "class XORModel(nn.Module): \n",
    "    def __init__(self):\n",
    "        super(XORModel, self).__init__()\n",
    "        self.layer1 = nn.Linear(2, 2) # 입력 2개, 출력 2개인 레이어 1 \n",
    "        self.layer2 = nn.Linear(2, 1) # 입력 2개, 출력이 1개인 레이어 2 \n",
    "        self.sigmoid = nn.Sigmoid()\n",
    "        \n",
    "    def forward(self, x):\n",
    "        x = self.sigmoid(self.layer1(x))\n",
    "        x = self.sigmoid(self.layer2(x))\n",
    "        return x \n",
    "\n",
    "# 데이터 정의\n",
    "x_data = torch.tensor([[0, 0], [0, 1], [1, 0], [1, 1]], dtype=torch.float32)\n",
    "y_data = torch.tensor([[0], [1], [1], [0]], dtype=torch.float32)\n",
    "model = XORModel()\n",
    "\n",
    "\n",
    "# 모델 초기화 \n",
    "criterion = nn.BCELoss()\n",
    "optimizer = optim.SGD(model.parameters(), lr=0.1)\n",
    "\n",
    "losses = []\n",
    "for epoch in range(10001): \n",
    "    # Forward pass \n",
    "    outputs = model(x_data)\n",
    "    loss = criterion(outputs, y_data)\n",
    "    \n",
    "    # Backward pass and optimization \n",
    "    optimizer.zero_grad()\n",
    "    loss.backward()\n",
    "    optimizer.step()\n",
    "    \n",
    "    losses.append(loss.item())\n",
    "    if (epoch % 1000 == 0): \n",
    "        print(f'Epoch [{epoch/10000}, Loss: {loss.item():.4f}')\n"
   ],
   "metadata": {
    "collapsed": false,
    "ExecuteTime": {
     "end_time": "2024-05-07T10:30:06.617295Z",
     "start_time": "2024-05-07T10:30:05.641446Z"
    }
   },
   "id": "a512e2391a0adf8e"
  },
  {
   "cell_type": "code",
   "execution_count": 44,
   "outputs": [
    {
     "data": {
      "text/plain": "<Figure size 640x480 with 1 Axes>",
      "image/png": "[encoded data removed]"
     },
     "metadata": {},
     "output_type": "display_data"
    }
   ],
   "source": [
    "import matplotlib.pyplot as plt\n",
    "\n",
    "plt.plot(losses)\n",
    "plt.xlabel(\"Epoch\")\n",
    "plt.ylabel(\"Loss\")\n",
    "plt.title('Training Loss')\n",
    "plt.show()"
   ],
   "metadata": {
    "collapsed": false,
    "ExecuteTime": {
     "end_time": "2024-05-07T10:33:26.588526Z",
     "start_time": "2024-05-07T10:33:22.172248Z"
    }
   },
   "id": "62769246bed61315"
  },
  {
   "cell_type": "code",
   "execution_count": 45,
   "outputs": [
    {
     "name": "stdout",
     "output_type": "stream",
     "text": [
      "tensor([[0.0224],\n",
      "        [0.9700],\n",
      "        [0.9800],\n",
      "        [0.0188]])\n"
     ]
    }
   ],
   "source": [
    "with torch.no_grad(): \n",
    "    test = torch.tensor([[0, 0], [0, 1], [1, 0], [1, 1]], dtype=torch.float32)\n",
    "    \n",
    "    predicted = model(test)\n",
    "    \n",
    "    print(predicted)"
   ],
   "metadata": {
    "collapsed": false,
    "ExecuteTime": {
     "end_time": "2024-05-07T10:33:50.485008Z",
     "start_time": "2024-05-07T10:33:50.479448Z"
    }
   },
   "id": "c19cd8cd53232859"
  },
  {
   "cell_type": "code",
   "execution_count": 52,
   "outputs": [
    {
     "data": {
      "text/plain": "tensor([[-2.1789,  0.9962]])"
     },
     "execution_count": 52,
     "metadata": {},
     "output_type": "execute_result"
    }
   ],
   "source": [
    "from torchviz import make_dot\n",
    "\n",
    "x = torch.randn(1, 2)\n",
    "y = model(x)\n",
    "make_dot(y, params={**dict(model.named_parameters()), y: y} )\n",
    "x"
   ],
   "metadata": {
    "collapsed": false,
    "ExecuteTime": {
     "end_time": "2024-05-07T10:37:13.298940Z",
     "start_time": "2024-05-07T10:37:13.291491Z"
    }
   },
   "id": "d09c0fcab657b6a4"
  },
  {
   "cell_type": "code",
   "execution_count": null,
   "outputs": [],
   "source": [
    "import torch\n",
    "import torch.nn as nn \n",
    "import torchvision.datasets as dsets \n",
    "import torchvision.transforms as transforms \n",
    "import matplotlib.pyplot as plt \n",
    "from itertools import islice\n",
    "from torch.autograd import Variable\n",
    "\n",
    "\n",
    "input_size = 784 # 이미지 사이즈 \n",
    "hidden_size = 500 # 히든 레이어 숫자 \n",
    "num_classes = 10  # 출력 테스트 종류 \n",
    "num_epochs =  20 # 학습에 사용할 Epoch 수 \n",
    "batch_size = 100 # 학습 입력 배치 크기 \n",
    "lr = 1e-3 # 학습률 \n",
    "\n",
    "\n",
    "train_data = dsets.MNIST(root=\"./data\", train=True, transform=transforms.ToTensor(), download=True)\n",
    "test_data = dsets.MNIST(root=\"./data\", train=False, transform=transforms.ToTensor())\n",
    "\n",
    "train_loader = torch.utils.data.DataLoader(dataset=train_data, batch_size=batch_size, shuffle=True)\n",
    "test_loader = torch.utils.data.DataLoader(dataset=test_data, batch_size=batch_size, shuffle=False)\n",
    "\n",
    "\n",
    "class Net(nn.Module): \n",
    "    def __init__(self, input_size, hidden_size, num_classes):\n",
    "        super(Net, self).__init__()\n",
    "        \n",
    "        self.fc1 = nn.Linear(input_size, hidden_size)\n",
    "        self.relu = nn.ReLU()\n",
    "        self.fc2 = nn.Linear(hidden_size, num_classes)\n",
    "        \n",
    "    def forward(self, x):\n",
    "        out = self.fc1(x)\n",
    "        out = self.relu(out)\n",
    "        out = self.fc2(out)\n",
    "        return out \n",
    "    \n",
    "\n",
    "net = Net(input_size, hidden_size, num_classes)\n",
    "\n",
    "if torch.cuda.is_available(): \n",
    "    net.cuda()\n",
    "    \n",
    "loss_function = nn.CrossEntropyLoss()\n",
    "optimizer = torch.optim.Adam(net.parameters(), lr=lr)\n",
    "\n",
    "for epoch in range(num_epochs): \n",
    "    for i, (images, labels) in enumerate(train_loader): \n",
    "        images = Variable(images.view(-1, 28 * 28)).cuda() \n",
    "        labels = Variable(labels).cuda() \n",
    "        \n",
    "        optimizer.zero_grad()\n",
    "        \n",
    "        outputs = net(images)\n",
    "        \n",
    "        loss = loss_function(outputs, labels)\n",
    "        \n",
    "        loss.backward()\n",
    "        \n",
    "        optimizer.step()\n",
    "        \n",
    "        if (i + 1) % 100 == 0:\n",
    "            print(\"Epoch [%d/%d], Step [%d/%d], Loss: %.4f\" %(epoch+1, num_epochs, i+1, len(train_data)//batch_size, loss.data))\n",
    "            \n",
    "# Expected Result:  \n",
    "# Epoch [1/20], Step [100/600], Loss: 0.4614\n",
    "# Epoch [1/20], Step [200/600], Loss: 0.1303\n",
    "# Epoch [1/20], Step [300/600], Loss: 0.1825\n",
    "# Epoch [1/20], Step [400/600], Loss: 0.1427\n",
    "# Epoch [1/20], Step [500/600], Loss: 0.1457\n",
    "# Epoch [1/20], Step [600/600], Loss: 0.2165\n",
    "# Epoch [2/20], Step [100/600], Loss: 0.0750\n",
    "# Epoch [2/20], Step [200/600], Loss: 0.0792\n",
    "# Epoch [2/20], Step [300/600], Loss: 0.0518\n",
    "# Epoch [2/20], Step [400/600], Loss: 0.1189\n",
    "# Epoch [2/20], Step [500/600], Loss: 0.0689\n",
    "# Epoch [2/20], Step [600/600], Loss: 0.1443\n",
    "# Epoch [3/20], Step [100/600], Loss: 0.1300\n",
    "# Epoch [3/20], Step [200/600], Loss: 0.1006\n",
    "# Epoch [3/20], Step [300/600], Loss: 0.0936\n",
    "# Epoch [3/20], Step [400/600], Loss: 0.0251\n",
    "# Epoch [3/20], Step [500/600], Loss: 0.0668\n",
    "# Epoch [3/20], Step [600/600], Loss: 0.0784\n",
    "# Epoch [4/20], Step [100/600], Loss: 0.1008\n",
    "# Epoch [4/20], Step [200/600], Loss: 0.0549\n",
    "# Epoch [4/20], Step [300/600], Loss: 0.0399\n",
    "# Epoch [4/20], Step [400/600], Loss: 0.1201\n",
    "# Epoch [4/20], Step [500/600], Loss: 0.1244\n",
    "# Epoch [4/20], Step [600/600], Loss: 0.0282\n",
    "# Epoch [5/20], Step [100/600], Loss: 0.0203\n",
    "# Epoch [5/20], Step [200/600], Loss: 0.0467\n",
    "# Epoch [5/20], Step [300/600], Loss: 0.0503\n",
    "# Epoch [5/20], Step [400/600], Loss: 0.0214\n",
    "# Epoch [5/20], Step [500/600], Loss: 0.0086\n",
    "# Epoch [5/20], Step [600/600], Loss: 0.0298\n",
    "# Epoch [6/20], Step [100/600], Loss: 0.0142\n",
    "# Epoch [6/20], Step [200/600], Loss: 0.0374\n",
    "# Epoch [6/20], Step [300/600], Loss: 0.0243\n",
    "# Epoch [6/20], Step [400/600], Loss: 0.0415\n",
    "# Epoch [6/20], Step [500/600], Loss: 0.0334\n",
    "# Epoch [6/20], Step [600/600], Loss: 0.0169\n",
    "# Epoch [7/20], Step [100/600], Loss: 0.0440\n",
    "# Epoch [7/20], Step [200/600], Loss: 0.0134\n",
    "# Epoch [7/20], Step [300/600], Loss: 0.0302\n",
    "# Epoch [7/20], Step [400/600], Loss: 0.0212\n",
    "# Epoch [7/20], Step [500/600], Loss: 0.0163\n",
    "# Epoch [7/20], Step [600/600], Loss: 0.0083\n",
    "# Epoch [8/20], Step [100/600], Loss: 0.0086\n",
    "# Epoch [8/20], Step [200/600], Loss: 0.0069\n",
    "# Epoch [8/20], Step [300/600], Loss: 0.0069\n",
    "# Epoch [8/20], Step [400/600], Loss: 0.0103\n",
    "# Epoch [8/20], Step [500/600], Loss: 0.0128\n",
    "# Epoch [8/20], Step [600/600], Loss: 0.0059\n",
    "# Epoch [9/20], Step [100/600], Loss: 0.0169\n",
    "# Epoch [9/20], Step [200/600], Loss: 0.0273\n",
    "# Epoch [9/20], Step [300/600], Loss: 0.0208\n",
    "# Epoch [9/20], Step [400/600], Loss: 0.0045\n",
    "# Epoch [9/20], Step [500/600], Loss: 0.0280\n",
    "# Epoch [9/20], Step [600/600], Loss: 0.0168\n",
    "# Epoch [10/20], Step [100/600], Loss: 0.0154\n",
    "# Epoch [10/20], Step [200/600], Loss: 0.0080\n",
    "# Epoch [10/20], Step [300/600], Loss: 0.0099\n",
    "# Epoch [10/20], Step [400/600], Loss: 0.0378\n",
    "# Epoch [10/20], Step [500/600], Loss: 0.0114\n",
    "# Epoch [10/20], Step [600/600], Loss: 0.0107\n",
    "# Epoch [11/20], Step [100/600], Loss: 0.0017\n",
    "# Epoch [11/20], Step [200/600], Loss: 0.0017\n",
    "# Epoch [11/20], Step [300/600], Loss: 0.0031\n",
    "# Epoch [11/20], Step [400/600], Loss: 0.0044\n",
    "# Epoch [11/20], Step [500/600], Loss: 0.0053\n",
    "# Epoch [11/20], Step [600/600], Loss: 0.0252\n",
    "# Epoch [12/20], Step [100/600], Loss: 0.0135\n",
    "# Epoch [12/20], Step [200/600], Loss: 0.0058\n",
    "# Epoch [12/20], Step [300/600], Loss: 0.0063\n",
    "# Epoch [12/20], Step [400/600], Loss: 0.0024\n",
    "# Epoch [12/20], Step [500/600], Loss: 0.0019\n",
    "# Epoch [12/20], Step [600/600], Loss: 0.0093\n",
    "# Epoch [13/20], Step [100/600], Loss: 0.0015\n",
    "# Epoch [13/20], Step [200/600], Loss: 0.0089\n",
    "# Epoch [13/20], Step [300/600], Loss: 0.0056\n",
    "# Epoch [13/20], Step [400/600], Loss: 0.0028\n",
    "# Epoch [13/20], Step [500/600], Loss: 0.0183\n",
    "# Epoch [13/20], Step [600/600], Loss: 0.0006\n",
    "# Epoch [14/20], Step [100/600], Loss: 0.0050\n",
    "# Epoch [14/20], Step [200/600], Loss: 0.0003\n",
    "# Epoch [14/20], Step [300/600], Loss: 0.0018\n",
    "# Epoch [14/20], Step [400/600], Loss: 0.0009\n",
    "# Epoch [14/20], Step [500/600], Loss: 0.0022\n",
    "# Epoch [14/20], Step [600/600], Loss: 0.0012\n",
    "# Epoch [15/20], Step [100/600], Loss: 0.0206\n",
    "# Epoch [15/20], Step [200/600], Loss: 0.0071\n",
    "# Epoch [15/20], Step [300/600], Loss: 0.0016\n",
    "# Epoch [15/20], Step [400/600], Loss: 0.0019\n",
    "# Epoch [15/20], Step [500/600], Loss: 0.0020\n",
    "# Epoch [15/20], Step [600/600], Loss: 0.0022\n",
    "# Epoch [16/20], Step [100/600], Loss: 0.0010\n",
    "# Epoch [16/20], Step [200/600], Loss: 0.0002\n",
    "# Epoch [16/20], Step [300/600], Loss: 0.0013\n",
    "# Epoch [16/20], Step [400/600], Loss: 0.0111\n",
    "# Epoch [16/20], Step [500/600], Loss: 0.0040\n",
    "# Epoch [16/20], Step [600/600], Loss: 0.0094\n",
    "# Epoch [17/20], Step [100/600], Loss: 0.0041\n",
    "# Epoch [17/20], Step [200/600], Loss: 0.0045\n",
    "# Epoch [17/20], Step [300/600], Loss: 0.0003\n",
    "# Epoch [17/20], Step [400/600], Loss: 0.0006\n",
    "# Epoch [17/20], Step [500/600], Loss: 0.0015\n",
    "# Epoch [17/20], Step [600/600], Loss: 0.0018\n",
    "# Epoch [18/20], Step [100/600], Loss: 0.0065\n",
    "# Epoch [18/20], Step [200/600], Loss: 0.0001\n",
    "# Epoch [18/20], Step [300/600], Loss: 0.0002\n",
    "# Epoch [18/20], Step [400/600], Loss: 0.0006\n",
    "# Epoch [18/20], Step [500/600], Loss: 0.0006\n",
    "# Epoch [18/20], Step [600/600], Loss: 0.0006\n",
    "# Epoch [19/20], Step [100/600], Loss: 0.0001\n",
    "# Epoch [19/20], Step [200/600], Loss: 0.0002\n",
    "# Epoch [19/20], Step [300/600], Loss: 0.0003\n",
    "# Epoch [19/20], Step [400/600], Loss: 0.0006\n",
    "# Epoch [19/20], Step [500/600], Loss: 0.0004\n",
    "# Epoch [19/20], Step [600/600], Loss: 0.0426\n",
    "# Epoch [20/20], Step [100/600], Loss: 0.0006\n",
    "# Epoch [20/20], Step [200/600], Loss: 0.0054\n",
    "# Epoch [20/20], Step [300/600], Loss: 0.0059\n",
    "# Epoch [20/20], Step [400/600], Loss: 0.0015\n",
    "# Epoch [20/20], Step [500/600], Loss: 0.0006\n",
    "# Epoch [20/20], Step [600/600], Loss: 0.0089"
   ],
   "metadata": {
    "collapsed": false
   },
   "id": "5d00bbd66d519121"
  },
  {
   "cell_type": "code",
   "execution_count": null,
   "outputs": [],
   "source": [
    "correct = 0 \n",
    "total = 0 \n",
    "\n",
    "for images, labels in test_loader: \n",
    "    images = Variable(images.view(-1, 28 * 28)).cuda()\n",
    "    labels = labels.cuda() \n",
    "    \n",
    "    output = net(images)\n",
    "    _, predicted = torch.max(output, 1)\n",
    "    correct += (predicted == labels).sum() \n",
    "    total += labels.size(0) \n",
    "    \n",
    "print(\"Acurracy of the model: %.3f %%\" %((100 * correct/(total + 1))))"
   ],
   "metadata": {
    "collapsed": false
   },
   "id": "cd687616e974e64b"
  },
  {
   "cell_type": "code",
   "execution_count": 37,
   "outputs": [
    {
     "data": {
      "text/plain": "1.4611927270889282"
     },
     "execution_count": 37,
     "metadata": {},
     "output_type": "execute_result"
    }
   ],
   "source": [
    "loss = loss_function(torch.tensor([[\n",
    "    0.0001,\n",
    "    0.0001,\n",
    "    0.0001,\n",
    "    1.0000000,\n",
    "    0.000000001,\n",
    "    0.000000001,\n",
    "    0.000000001,\n",
    "    0.000000001,\n",
    "    0.0001,\n",
    "    0.0001\n",
    "]]), torch.LongTensor([3]))\n",
    "\n",
    "loss.item()"
   ],
   "metadata": {
    "collapsed": false,
    "ExecuteTime": {
     "end_time": "2024-05-09T10:20:41.798001Z",
     "start_time": "2024-05-09T10:20:41.793818Z"
    }
   },
   "id": "122e90f5f4f2ba90"
  }
 ],
 "metadata": {
  "kernelspec": {
   "display_name": "Python 3",
   "language": "python",
   "name": "python3"
  },
  "language_info": {
   "codemirror_mode": {
    "name": "ipython",
    "version": 2
   },
   "file_extension": ".py",
   "mimetype": "text/x-python",
   "name": "python",
   "nbconvert_exporter": "python",
   "pygments_lexer": "ipython2",
   "version": "2.7.6"
  }
 },
 "nbformat": 4,
 "nbformat_minor": 5
}
