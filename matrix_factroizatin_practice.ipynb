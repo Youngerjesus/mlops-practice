{
 "cells": [
  {
   "cell_type": "code",
   "execution_count": 1,
   "id": "initial_id",
   "metadata": {
    "collapsed": true,
    "ExecuteTime": {
     "end_time": "2024-05-21T23:12:29.446928Z",
     "start_time": "2024-05-21T23:12:28.960169Z"
    }
   },
   "outputs": [
    {
     "name": "stderr",
     "output_type": "stream",
     "text": [
      "/Library/Python/3.9/site-packages/urllib3/__init__.py:35: NotOpenSSLWarning: urllib3 v2 only supports OpenSSL 1.1.1+, currently the 'ssl' module is compiled with 'LibreSSL 2.8.3'. See: https://github.com/urllib3/urllib3/issues/3020\n",
      "  warnings.warn(\n"
     ]
    }
   ],
   "source": [
    "import pandas as pd\n",
    "import numpy as np\n",
    "from tqdm import tqdm\n",
    "from datasets import load_dataset\n",
    "from sklearn.model_selection import train_test_split\n",
    "import matplotlib.pyplot as plt"
   ]
  },
  {
   "cell_type": "code",
   "execution_count": 13,
   "outputs": [],
   "source": [
    "data = load_dataset(\"nbtpj/movielens-1m-ratings\")[\"train\"].shuffle(seed=10).select(range(200000))\n",
    "movielens_df = pd.DataFrame(data)\n",
    "movielens_df = movielens_df[[\"user_id\", \"movie_id\", \"user_rating\"]]\n",
    "\n",
    "user_ids = movielens_df[\"user_id\"].unique()\n",
    "user_id_map = {id: index for index, id in enumerate(user_ids)}\n",
    "movie_ids = movielens_df[\"movie_id\"].unique()\n",
    "movie_id_map = {id: index for index, id in enumerate(movie_ids)}\n",
    "\n",
    "movielens_df[\"user_id\"] = movielens_df[\"user_id\"].map(user_id_map)\n",
    "movielens_df[\"movie_id\"] = movielens_df[\"movie_id\"].map(movie_id_map)\n",
    "\n",
    "train_data, test_data = train_test_split(movielens_df, test_size=0.2, random_state=10)"
   ],
   "metadata": {
    "collapsed": false,
    "ExecuteTime": {
     "end_time": "2024-05-21T23:45:23.339487Z",
     "start_time": "2024-05-21T23:45:10.337494Z"
    }
   },
   "id": "fdc67be320ea006c"
  },
  {
   "cell_type": "code",
   "execution_count": 14,
   "outputs": [
    {
     "name": "stderr",
     "output_type": "stream",
     "text": [
      "100%|██████████| 20/20 [01:09<00:00,  3.45s/it]\n"
     ]
    }
   ],
   "source": [
    "num_users = len(user_ids)\n",
    "num_movies = len(movie_ids)\n",
    "num_features = 10\n",
    "\n",
    "user_features = np.random.normal(0, .1, (num_users, num_features))\n",
    "movie_features = np.random.normal(0, .1, (num_movies, num_features))\n",
    "\n",
    "learning_rate = 0.01\n",
    "regularization = 0.1\n",
    "epochs = 20\n",
    "epoch_rmse: list[float] = []\n",
    "\n",
    "\n",
    "def predict_rating(user_id: int, movie_id: int) -> float:\n",
    "    return np.dot(user_features[user_id], movie_features[movie_id])\n",
    "\n",
    "\n",
    "for epoch in tqdm(range(epochs)):\n",
    "    squared_errors: list[float] = []\n",
    "\n",
    "    for _, row in train_data.iterrows():\n",
    "        user_id = int(row[\"user_id\"])\n",
    "        movie_id = int(row[\"movie_id\"])\n",
    "        rating = row[\"user_rating\"]\n",
    "\n",
    "        prediction = predict_rating(user_id, movie_id)\n",
    "        error = rating - prediction\n",
    "        squared_errors.append(error**2)\n",
    "\n",
    "        user_features[user_id] += learning_rate * (error * movie_features[movie_id] - regularization * user_features[user_id])\n",
    "        movie_features[movie_id] += learning_rate * (error * user_features[user_id] - regularization * movie_features[movie_id])\n",
    "\n",
    "    epoch_rmse.append(np.sqrt(np.mean(squared_errors)))"
   ],
   "metadata": {
    "collapsed": false,
    "ExecuteTime": {
     "end_time": "2024-05-22T00:04:39.674024Z",
     "start_time": "2024-05-22T00:03:30.595835Z"
    }
   },
   "id": "a299ec5157714a70"
  },
  {
   "cell_type": "code",
   "execution_count": null,
   "outputs": [],
   "source": [
    "plt.figure(figsize=(10, 5))\n",
    "plt.plot(range(1, epochs+1), epoch_rmse, linewidth=2, color=\"#fc1c49\")\n",
    "plt.title(\"Epoch vs. RMSE\")\n",
    "plt.xlabel(\"Epoch\")\n",
    "plt.ylabel(\"RMSE\")\n",
    "plt.grid(True)\n",
    "plt.show()"
   ],
   "metadata": {
    "collapsed": false
   },
   "id": "4ca47e2dc8510301"
  },
  {
   "cell_type": "code",
   "execution_count": null,
   "outputs": [],
   "source": [
    "predictions: list[float] = []\n",
    "true_ratings: list[float] = []\n",
    "\n",
    "for _, row in tqdm(test_data.iterrows(), total=test_data.shape[0]):\n",
    "    user_id = int(row[\"user_id\"])\n",
    "    movie_id = int(row[\"movie_id\"])\n",
    "    true_rating = row[\"user_rating\"]\n",
    "\n",
    "    predicted_rating = predict_rating(user_id, movie_id)\n",
    "    predictions.append(round(predicted_rating))\n",
    "    true_ratings.append(true_rating)"
   ],
   "metadata": {
    "collapsed": false
   },
   "id": "9cc5f6dcf7bfe9e0"
  },
  {
   "cell_type": "code",
   "execution_count": null,
   "outputs": [],
   "source": [
    "plt.figure(figsize=(10, 5))\n",
    "plt.hist(predictions, bins=5, alpha=0.5, label=\"Predicted\", color=\"#fc1c49\")\n",
    "plt.hist(true_ratings, bins=5, alpha=0.5, label=\"Actual\", color=\"#00a67d\")\n",
    "plt.title(\"Predicted vs. Actual Rating Distribution\")\n",
    "plt.xlabel(\"Rating\")\n",
    "plt.ylabel(\"Frequency\")\n",
    "plt.legend()\n",
    "plt.show()"
   ],
   "metadata": {
    "collapsed": false
   },
   "id": "33f8911472f3ae90"
  }
 ],
 "metadata": {
  "kernelspec": {
   "display_name": "Python 3",
   "language": "python",
   "name": "python3"
  },
  "language_info": {
   "codemirror_mode": {
    "name": "ipython",
    "version": 2
   },
   "file_extension": ".py",
   "mimetype": "text/x-python",
   "name": "python",
   "nbconvert_exporter": "python",
   "pygments_lexer": "ipython2",
   "version": "2.7.6"
  }
 },
 "nbformat": 4,
 "nbformat_minor": 5
}
